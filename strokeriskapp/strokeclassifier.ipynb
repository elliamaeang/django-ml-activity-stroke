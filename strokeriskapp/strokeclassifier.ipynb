{
 "cells": [
  {
   "cell_type": "markdown",
   "metadata": {},
   "source": [
    "# Stroke Risk Prediction Model\n",
    "\n",
    "Goal: Predict the risk of a patient getting a stroke.\n",
    "\n",
    "Dataset: Contains information about patients, including their age, gender, various health metrics, and whether or not they have had a stroke."
   ]
  },
  {
   "cell_type": "code",
   "execution_count": 844,
   "metadata": {},
   "outputs": [],
   "source": [
    "# Imports\n",
    "\n",
    "import pandas as pd\n",
    "import numpy as np\n",
    "import matplotlib.pyplot as plt\n",
    "import seaborn as sns\n",
    "import joblib\n",
    "\n",
    "from imblearn.over_sampling import SMOTE\n",
    "from sklearn.preprocessing import StandardScaler, LabelEncoder\n",
    "\n",
    "from sklearn.tree import DecisionTreeClassifier\n",
    "from sklearn.svm import SVC\n",
    "from sklearn.ensemble import RandomForestClassifier\n",
    "\n",
    "from sklearn.calibration import CalibratedClassifierCV\n",
    "\n",
    "from sklearn.model_selection import train_test_split\n",
    "from sklearn.metrics import balanced_accuracy_score"
   ]
  },
  {
   "cell_type": "markdown",
   "metadata": {},
   "source": [
    "### Data Preprocessing"
   ]
  },
  {
   "cell_type": "code",
   "execution_count": 845,
   "metadata": {},
   "outputs": [
    {
     "data": {
      "text/html": [
       "<div>\n",
       "<style scoped>\n",
       "    .dataframe tbody tr th:only-of-type {\n",
       "        vertical-align: middle;\n",
       "    }\n",
       "\n",
       "    .dataframe tbody tr th {\n",
       "        vertical-align: top;\n",
       "    }\n",
       "\n",
       "    .dataframe thead th {\n",
       "        text-align: right;\n",
       "    }\n",
       "</style>\n",
       "<table border=\"1\" class=\"dataframe\">\n",
       "  <thead>\n",
       "    <tr style=\"text-align: right;\">\n",
       "      <th></th>\n",
       "      <th>id</th>\n",
       "      <th>gender</th>\n",
       "      <th>age</th>\n",
       "      <th>hypertension</th>\n",
       "      <th>heart_disease</th>\n",
       "      <th>ever_married</th>\n",
       "      <th>work_type</th>\n",
       "      <th>Residence_type</th>\n",
       "      <th>avg_glucose_level</th>\n",
       "      <th>bmi</th>\n",
       "      <th>smoking_status</th>\n",
       "      <th>stroke</th>\n",
       "    </tr>\n",
       "  </thead>\n",
       "  <tbody>\n",
       "    <tr>\n",
       "      <th>0</th>\n",
       "      <td>9046</td>\n",
       "      <td>Male</td>\n",
       "      <td>67.0</td>\n",
       "      <td>0</td>\n",
       "      <td>1</td>\n",
       "      <td>Yes</td>\n",
       "      <td>Private</td>\n",
       "      <td>Urban</td>\n",
       "      <td>228.69</td>\n",
       "      <td>36.6</td>\n",
       "      <td>formerly smoked</td>\n",
       "      <td>1</td>\n",
       "    </tr>\n",
       "    <tr>\n",
       "      <th>1</th>\n",
       "      <td>51676</td>\n",
       "      <td>Female</td>\n",
       "      <td>61.0</td>\n",
       "      <td>0</td>\n",
       "      <td>0</td>\n",
       "      <td>Yes</td>\n",
       "      <td>Self-employed</td>\n",
       "      <td>Rural</td>\n",
       "      <td>202.21</td>\n",
       "      <td>NaN</td>\n",
       "      <td>never smoked</td>\n",
       "      <td>1</td>\n",
       "    </tr>\n",
       "    <tr>\n",
       "      <th>2</th>\n",
       "      <td>31112</td>\n",
       "      <td>Male</td>\n",
       "      <td>80.0</td>\n",
       "      <td>0</td>\n",
       "      <td>1</td>\n",
       "      <td>Yes</td>\n",
       "      <td>Private</td>\n",
       "      <td>Rural</td>\n",
       "      <td>105.92</td>\n",
       "      <td>32.5</td>\n",
       "      <td>never smoked</td>\n",
       "      <td>1</td>\n",
       "    </tr>\n",
       "    <tr>\n",
       "      <th>3</th>\n",
       "      <td>60182</td>\n",
       "      <td>Female</td>\n",
       "      <td>49.0</td>\n",
       "      <td>0</td>\n",
       "      <td>0</td>\n",
       "      <td>Yes</td>\n",
       "      <td>Private</td>\n",
       "      <td>Urban</td>\n",
       "      <td>171.23</td>\n",
       "      <td>34.4</td>\n",
       "      <td>smokes</td>\n",
       "      <td>1</td>\n",
       "    </tr>\n",
       "    <tr>\n",
       "      <th>4</th>\n",
       "      <td>1665</td>\n",
       "      <td>Female</td>\n",
       "      <td>79.0</td>\n",
       "      <td>1</td>\n",
       "      <td>0</td>\n",
       "      <td>Yes</td>\n",
       "      <td>Self-employed</td>\n",
       "      <td>Rural</td>\n",
       "      <td>174.12</td>\n",
       "      <td>24.0</td>\n",
       "      <td>never smoked</td>\n",
       "      <td>1</td>\n",
       "    </tr>\n",
       "  </tbody>\n",
       "</table>\n",
       "</div>"
      ],
      "text/plain": [
       "      id  gender   age  hypertension  heart_disease ever_married  \\\n",
       "0   9046    Male  67.0             0              1          Yes   \n",
       "1  51676  Female  61.0             0              0          Yes   \n",
       "2  31112    Male  80.0             0              1          Yes   \n",
       "3  60182  Female  49.0             0              0          Yes   \n",
       "4   1665  Female  79.0             1              0          Yes   \n",
       "\n",
       "       work_type Residence_type  avg_glucose_level   bmi   smoking_status  \\\n",
       "0        Private          Urban             228.69  36.6  formerly smoked   \n",
       "1  Self-employed          Rural             202.21   NaN     never smoked   \n",
       "2        Private          Rural             105.92  32.5     never smoked   \n",
       "3        Private          Urban             171.23  34.4           smokes   \n",
       "4  Self-employed          Rural             174.12  24.0     never smoked   \n",
       "\n",
       "   stroke  \n",
       "0       1  \n",
       "1       1  \n",
       "2       1  \n",
       "3       1  \n",
       "4       1  "
      ]
     },
     "execution_count": 845,
     "metadata": {},
     "output_type": "execute_result"
    }
   ],
   "source": [
    "# Load dataset\n",
    "stroke_df = pd.read_csv('./dataset/stroke-dataset.csv')\n",
    "\n",
    "stroke_df.head()"
   ]
  },
  {
   "cell_type": "code",
   "execution_count": 846,
   "metadata": {},
   "outputs": [
    {
     "data": {
      "text/plain": [
       "id                     int64\n",
       "gender                object\n",
       "age                  float64\n",
       "hypertension           int64\n",
       "heart_disease          int64\n",
       "ever_married          object\n",
       "work_type             object\n",
       "Residence_type        object\n",
       "avg_glucose_level    float64\n",
       "bmi                  float64\n",
       "smoking_status        object\n",
       "stroke                 int64\n",
       "dtype: object"
      ]
     },
     "execution_count": 846,
     "metadata": {},
     "output_type": "execute_result"
    }
   ],
   "source": [
    "# Check datatypes of each column\n",
    "stroke_df.dtypes"
   ]
  },
  {
   "cell_type": "code",
   "execution_count": 847,
   "metadata": {},
   "outputs": [
    {
     "data": {
      "text/plain": [
       "False"
      ]
     },
     "execution_count": 847,
     "metadata": {},
     "output_type": "execute_result"
    }
   ],
   "source": [
    "# Check for duplicates\n",
    "stroke_df.duplicated().values.any()"
   ]
  },
  {
   "cell_type": "code",
   "execution_count": 848,
   "metadata": {},
   "outputs": [
    {
     "name": "stdout",
     "output_type": "stream",
     "text": [
      "Columns before drop:  12\n",
      "Columns after drop:  8\n"
     ]
    }
   ],
   "source": [
    "# Drop unnecessary columns\n",
    "print(\"Columns before drop: \", stroke_df.shape[1])\n",
    "stroke_df.drop(columns=['id', 'ever_married', 'work_type', 'Residence_type'], inplace=True)\n",
    "print(\"Columns after drop: \", stroke_df.shape[1])"
   ]
  },
  {
   "cell_type": "markdown",
   "metadata": {},
   "source": [
    "#### A. Missing Values"
   ]
  },
  {
   "cell_type": "code",
   "execution_count": 849,
   "metadata": {},
   "outputs": [
    {
     "data": {
      "text/plain": [
       "gender                 0\n",
       "age                    0\n",
       "hypertension           0\n",
       "heart_disease          0\n",
       "avg_glucose_level      0\n",
       "bmi                  201\n",
       "smoking_status         0\n",
       "stroke                 0\n",
       "dtype: int64"
      ]
     },
     "execution_count": 849,
     "metadata": {},
     "output_type": "execute_result"
    }
   ],
   "source": [
    "# Check for null values \n",
    "stroke_df.isnull().sum()"
   ]
  },
  {
   "cell_type": "code",
   "execution_count": 850,
   "metadata": {},
   "outputs": [
    {
     "data": {
      "text/plain": [
       "<Axes: >"
      ]
     },
     "execution_count": 850,
     "metadata": {},
     "output_type": "execute_result"
    },
    {
     "data": {
      "image/png": "[encoded data removed]",
      "text/plain": [
       "<Figure size 640x480 with 1 Axes>"
      ]
     },
     "metadata": {},
     "output_type": "display_data"
    }
   ],
   "source": [
    "# Visualize BMI\n",
    "sns.boxplot(stroke_df['bmi'])"
   ]
  },
  {
   "cell_type": "code",
   "execution_count": 851,
   "metadata": {},
   "outputs": [
    {
     "name": "stdout",
     "output_type": "stream",
     "text": [
      "BMI Median:  28.1\n",
      "BMI Null Values:  0\n"
     ]
    }
   ],
   "source": [
    "# Given that there are many outliers, it is advised to use median instead of mean\n",
    "stroke_df['bmi'].fillna(stroke_df['bmi'].median(), inplace=True)\n",
    "print(\"BMI Median: \", stroke_df['bmi'].median())\n",
    "\n",
    "# Check for null values again\n",
    "print(\"BMI Null Values: \", stroke_df['bmi'].isnull().sum())"
   ]
  },
  {
   "cell_type": "code",
   "execution_count": 852,
   "metadata": {},
   "outputs": [
    {
     "name": "stdout",
     "output_type": "stream",
     "text": [
      "['Male' 'Female' 'Other']\n",
      "['formerly smoked' 'never smoked' 'smokes' 'Unknown']\n"
     ]
    }
   ],
   "source": [
    "# Check unique values for object datatype columns\n",
    "print(stroke_df['gender'].unique())\n",
    "print(stroke_df['smoking_status'].unique())"
   ]
  },
  {
   "cell_type": "code",
   "execution_count": 853,
   "metadata": {},
   "outputs": [
    {
     "name": "stdout",
     "output_type": "stream",
     "text": [
      "Smoking Status Mode:  never smoked\n",
      "['formerly smoked' 'never smoked' 'smokes']\n"
     ]
    }
   ],
   "source": [
    "# Replace 'Unknown' in smoking_status with mode\n",
    "print(\"Smoking Status Mode: \", stroke_df['smoking_status'].mode()[0])\n",
    "stroke_df['smoking_status'] = stroke_df['smoking_status'].replace('Unknown', stroke_df['smoking_status'].mode()[0])\n",
    "\n",
    "# Check unique values for smoking_status again\n",
    "print(stroke_df['smoking_status'].unique())"
   ]
  },
  {
   "cell_type": "markdown",
   "metadata": {},
   "source": [
    "#### B. Skewness\n",
    "\n",
    "Note: Will be resolved by StandardScaler, no need to do this"
   ]
  },
  {
   "cell_type": "code",
   "execution_count": 854,
   "metadata": {},
   "outputs": [
    {
     "data": {
      "text/plain": [
       "(array([  4.,   9.,  55., 133., 210., 252., 331., 409., 452., 520., 713.,\n",
       "        402., 370., 304., 221., 182., 129., 112.,  83.,  69.,  33.,  22.,\n",
       "         25.,  11.,  14.,  14.,  13.,   4.,   4.,   2.,   2.,   1.,   1.,\n",
       "          0.,   0.,   1.,   0.,   0.,   1.,   0.,   0.,   0.,   0.,   0.,\n",
       "          0.,   0.,   1.,   0.,   0.,   1.]),\n",
       " array([10.3  , 12.046, 13.792, 15.538, 17.284, 19.03 , 20.776, 22.522,\n",
       "        24.268, 26.014, 27.76 , 29.506, 31.252, 32.998, 34.744, 36.49 ,\n",
       "        38.236, 39.982, 41.728, 43.474, 45.22 , 46.966, 48.712, 50.458,\n",
       "        52.204, 53.95 , 55.696, 57.442, 59.188, 60.934, 62.68 , 64.426,\n",
       "        66.172, 67.918, 69.664, 71.41 , 73.156, 74.902, 76.648, 78.394,\n",
       "        80.14 , 81.886, 83.632, 85.378, 87.124, 88.87 , 90.616, 92.362,\n",
       "        94.108, 95.854, 97.6  ]),\n",
       " <BarContainer object of 50 artists>)"
      ]
     },
     "execution_count": 854,
     "metadata": {},
     "output_type": "execute_result"
    },
    {
     "data": {
      "image/png": "[encoded data removed]",
      "text/plain": [
       "<Figure size 640x480 with 3 Axes>"
      ]
     },
     "metadata": {},
     "output_type": "display_data"
    }
   ],
   "source": [
    "# Display histogram for visualization of all float datatype columns\n",
    "figure, axis = plt.subplots(3, 1)\n",
    "\n",
    "axis[0].hist(stroke_df['age'], bins=50)\n",
    "axis[1].hist(stroke_df['avg_glucose_level'], bins=50)\n",
    "axis[2].hist(stroke_df['bmi'], bins=50)"
   ]
  },
  {
   "cell_type": "code",
   "execution_count": 855,
   "metadata": {},
   "outputs": [
    {
     "name": "stdout",
     "output_type": "stream",
     "text": [
      "-0.1370593225984694\n",
      "1.5722838665030459\n",
      "1.0881872326442346\n"
     ]
    }
   ],
   "source": [
    "# Display skewness\n",
    "print(stroke_df['age'].skew()) # negative\n",
    "print(stroke_df['avg_glucose_level'].skew()) # positive\n",
    "print(stroke_df['bmi'].skew()) # positive"
   ]
  },
  {
   "cell_type": "code",
   "execution_count": 856,
   "metadata": {},
   "outputs": [],
   "source": [
    "# Transform using square (for negative) and logarithm (for positive)\n",
    "def scale(col):\n",
    "    # Define an acceptable range of skewness (in my case, -0.15 to 0.15)\n",
    "    while col.skew() <= -0.15 or col.skew() >= 0.15:\n",
    "        if col.skew() < 0:\n",
    "            col = np.square(col)\n",
    "        else:\n",
    "            col = np.log(col + 1)\n",
    "    \n",
    "    return col\n",
    "\n",
    "# Use function\n",
    "#stroke_df['age'] = scale(stroke_df['age']) # Note: performing the function on age increases distance from 0, so no need\n",
    "#stroke_df['avg_glucose_level'] = scale(stroke_df['avg_glucose_level'])\n",
    "#stroke_df['bmi'] = scale(stroke_df['bmi'])"
   ]
  },
  {
   "cell_type": "markdown",
   "metadata": {},
   "source": [
    "#### C. Outliers"
   ]
  },
  {
   "cell_type": "code",
   "execution_count": 857,
   "metadata": {},
   "outputs": [
    {
     "data": {
      "text/plain": [
       "{'whiskers': [<matplotlib.lines.Line2D at 0x247995e6640>,\n",
       "  <matplotlib.lines.Line2D at 0x247995e68e0>],\n",
       " 'caps': [<matplotlib.lines.Line2D at 0x247995e6b80>,\n",
       "  <matplotlib.lines.Line2D at 0x247995e6e20>],\n",
       " 'boxes': [<matplotlib.lines.Line2D at 0x247995e63a0>],\n",
       " 'medians': [<matplotlib.lines.Line2D at 0x247995f4100>],\n",
       " 'fliers': [<matplotlib.lines.Line2D at 0x247995f43a0>],\n",
       " 'means': []}"
      ]
     },
     "execution_count": 857,
     "metadata": {},
     "output_type": "execute_result"
    },
    {
     "data": {
      "image/png": "[encoded data removed]",
      "text/plain": [
       "<Figure size 640x480 with 3 Axes>"
      ]
     },
     "metadata": {},
     "output_type": "display_data"
    }
   ],
   "source": [
    "# Display boxplot for visualization of all float datatype columns\n",
    "figure, axis = plt.subplots(1, 3)\n",
    "\n",
    "axis[0].boxplot(stroke_df['age'])\n",
    "axis[1].boxplot(stroke_df['avg_glucose_level'])\n",
    "axis[2].boxplot(stroke_df['bmi'])"
   ]
  },
  {
   "cell_type": "code",
   "execution_count": 858,
   "metadata": {},
   "outputs": [
    {
     "name": "stdout",
     "output_type": "stream",
     "text": [
      "5110\n",
      "4383\n"
     ]
    }
   ],
   "source": [
    "# Remove outliers\n",
    "def outliers(df, col):\n",
    "    Q1 = np.percentile(col, 25, method=\"midpoint\")\n",
    "    Q3 = np.percentile(col, 75, method=\"midpoint\")\n",
    "    IQR = Q3 - Q1\n",
    "    lower = Q1 - 1.5 * IQR\n",
    "    higher = Q3 + 1.5 * IQR\n",
    "\n",
    "    return df[(col > lower) & (col < higher)]\n",
    "\n",
    "# Use function\n",
    "print(stroke_df.shape[0])\n",
    "stroke_df = outliers(stroke_df, stroke_df['avg_glucose_level'])\n",
    "stroke_df = outliers(stroke_df, stroke_df['bmi'])\n",
    "print(stroke_df.shape[0])"
   ]
  },
  {
   "cell_type": "code",
   "execution_count": 859,
   "metadata": {},
   "outputs": [
    {
     "data": {
      "text/plain": [
       "{'whiskers': [<matplotlib.lines.Line2D at 0x2479978ebe0>,\n",
       "  <matplotlib.lines.Line2D at 0x2479978ee80>],\n",
       " 'caps': [<matplotlib.lines.Line2D at 0x2479979b160>,\n",
       "  <matplotlib.lines.Line2D at 0x2479979b400>],\n",
       " 'boxes': [<matplotlib.lines.Line2D at 0x2479978e940>],\n",
       " 'medians': [<matplotlib.lines.Line2D at 0x2479979b6a0>],\n",
       " 'fliers': [<matplotlib.lines.Line2D at 0x2479979b940>],\n",
       " 'means': []}"
      ]
     },
     "execution_count": 859,
     "metadata": {},
     "output_type": "execute_result"
    },
    {
     "data": {
      "image/png": "[encoded data removed]",
      "text/plain": [
       "<Figure size 640x480 with 3 Axes>"
      ]
     },
     "metadata": {},
     "output_type": "display_data"
    }
   ],
   "source": [
    "# Display boxplot again to verify outliers were minimized\n",
    "figure, axis = plt.subplots(1, 3)\n",
    "\n",
    "axis[0].boxplot(stroke_df['age'])\n",
    "axis[1].boxplot(stroke_df['avg_glucose_level'])\n",
    "axis[2].boxplot(stroke_df['bmi'])"
   ]
  },
  {
   "cell_type": "markdown",
   "metadata": {},
   "source": [
    "#### D. Encoding"
   ]
  },
  {
   "cell_type": "code",
   "execution_count": 860,
   "metadata": {},
   "outputs": [
    {
     "name": "stdout",
     "output_type": "stream",
     "text": [
      "gender\n",
      "Female    2585\n",
      "Male      1797\n",
      "Other        1\n",
      "Name: count, dtype: int64\n",
      "smoking_status\n",
      "never smoked       3009\n",
      "formerly smoked     707\n",
      "smokes              667\n",
      "Name: count, dtype: int64\n"
     ]
    }
   ],
   "source": [
    "# Show unique value counts\n",
    "print(stroke_df['gender'].value_counts())\n",
    "print(stroke_df['smoking_status'].value_counts())"
   ]
  },
  {
   "cell_type": "code",
   "execution_count": 861,
   "metadata": {},
   "outputs": [],
   "source": [
    "# Convert categorical to numerical\n",
    "encoder = LabelEncoder()\n",
    "\n",
    "stroke_df['gender'] = encoder.fit_transform(stroke_df['gender'])\n",
    "stroke_df['smoking_status'] = encoder.fit_transform(stroke_df['smoking_status'])"
   ]
  },
  {
   "cell_type": "code",
   "execution_count": 862,
   "metadata": {},
   "outputs": [
    {
     "name": "stdout",
     "output_type": "stream",
     "text": [
      "gender\n",
      "0    2585\n",
      "1    1797\n",
      "2       1\n",
      "Name: count, dtype: int64\n",
      "smoking_status\n",
      "1    3009\n",
      "0     707\n",
      "2     667\n",
      "Name: count, dtype: int64\n"
     ]
    }
   ],
   "source": [
    "# Show unique value counts to check label mapping\n",
    "print(stroke_df['gender'].value_counts())\n",
    "print(stroke_df['smoking_status'].value_counts())"
   ]
  },
  {
   "cell_type": "code",
   "execution_count": 863,
   "metadata": {},
   "outputs": [
    {
     "data": {
      "text/html": [
       "<div>\n",
       "<style scoped>\n",
       "    .dataframe tbody tr th:only-of-type {\n",
       "        vertical-align: middle;\n",
       "    }\n",
       "\n",
       "    .dataframe tbody tr th {\n",
       "        vertical-align: top;\n",
       "    }\n",
       "\n",
       "    .dataframe thead th {\n",
       "        text-align: right;\n",
       "    }\n",
       "</style>\n",
       "<table border=\"1\" class=\"dataframe\">\n",
       "  <thead>\n",
       "    <tr style=\"text-align: right;\">\n",
       "      <th></th>\n",
       "      <th>gender</th>\n",
       "      <th>age</th>\n",
       "      <th>hypertension</th>\n",
       "      <th>heart_disease</th>\n",
       "      <th>avg_glucose_level</th>\n",
       "      <th>bmi</th>\n",
       "      <th>smoking_status</th>\n",
       "      <th>stroke</th>\n",
       "    </tr>\n",
       "  </thead>\n",
       "  <tbody>\n",
       "    <tr>\n",
       "      <th>2</th>\n",
       "      <td>1</td>\n",
       "      <td>80.0</td>\n",
       "      <td>0</td>\n",
       "      <td>1</td>\n",
       "      <td>105.92</td>\n",
       "      <td>32.5</td>\n",
       "      <td>1</td>\n",
       "      <td>1</td>\n",
       "    </tr>\n",
       "    <tr>\n",
       "      <th>6</th>\n",
       "      <td>1</td>\n",
       "      <td>74.0</td>\n",
       "      <td>1</td>\n",
       "      <td>1</td>\n",
       "      <td>70.09</td>\n",
       "      <td>27.4</td>\n",
       "      <td>1</td>\n",
       "      <td>1</td>\n",
       "    </tr>\n",
       "    <tr>\n",
       "      <th>7</th>\n",
       "      <td>0</td>\n",
       "      <td>69.0</td>\n",
       "      <td>0</td>\n",
       "      <td>0</td>\n",
       "      <td>94.39</td>\n",
       "      <td>22.8</td>\n",
       "      <td>1</td>\n",
       "      <td>1</td>\n",
       "    </tr>\n",
       "    <tr>\n",
       "      <th>8</th>\n",
       "      <td>0</td>\n",
       "      <td>59.0</td>\n",
       "      <td>0</td>\n",
       "      <td>0</td>\n",
       "      <td>76.15</td>\n",
       "      <td>28.1</td>\n",
       "      <td>1</td>\n",
       "      <td>1</td>\n",
       "    </tr>\n",
       "    <tr>\n",
       "      <th>9</th>\n",
       "      <td>0</td>\n",
       "      <td>78.0</td>\n",
       "      <td>0</td>\n",
       "      <td>0</td>\n",
       "      <td>58.57</td>\n",
       "      <td>24.2</td>\n",
       "      <td>1</td>\n",
       "      <td>1</td>\n",
       "    </tr>\n",
       "  </tbody>\n",
       "</table>\n",
       "</div>"
      ],
      "text/plain": [
       "   gender   age  hypertension  heart_disease  avg_glucose_level   bmi  \\\n",
       "2       1  80.0             0              1             105.92  32.5   \n",
       "6       1  74.0             1              1              70.09  27.4   \n",
       "7       0  69.0             0              0              94.39  22.8   \n",
       "8       0  59.0             0              0              76.15  28.1   \n",
       "9       0  78.0             0              0              58.57  24.2   \n",
       "\n",
       "   smoking_status  stroke  \n",
       "2               1       1  \n",
       "6               1       1  \n",
       "7               1       1  \n",
       "8               1       1  \n",
       "9               1       1  "
      ]
     },
     "execution_count": 863,
     "metadata": {},
     "output_type": "execute_result"
    }
   ],
   "source": [
    "# Verify if changes were made\n",
    "stroke_df.head()"
   ]
  },
  {
   "cell_type": "markdown",
   "metadata": {},
   "source": [
    "### Model Integration"
   ]
  },
  {
   "cell_type": "markdown",
   "metadata": {},
   "source": [
    "#### A. Dataset Splitting"
   ]
  },
  {
   "cell_type": "code",
   "execution_count": 864,
   "metadata": {},
   "outputs": [
    {
     "data": {
      "text/html": [
       "<div>\n",
       "<style scoped>\n",
       "    .dataframe tbody tr th:only-of-type {\n",
       "        vertical-align: middle;\n",
       "    }\n",
       "\n",
       "    .dataframe tbody tr th {\n",
       "        vertical-align: top;\n",
       "    }\n",
       "\n",
       "    .dataframe thead th {\n",
       "        text-align: right;\n",
       "    }\n",
       "</style>\n",
       "<table border=\"1\" class=\"dataframe\">\n",
       "  <thead>\n",
       "    <tr style=\"text-align: right;\">\n",
       "      <th></th>\n",
       "      <th>gender</th>\n",
       "      <th>age</th>\n",
       "      <th>hypertension</th>\n",
       "      <th>heart_disease</th>\n",
       "      <th>avg_glucose_level</th>\n",
       "      <th>bmi</th>\n",
       "      <th>smoking_status</th>\n",
       "    </tr>\n",
       "  </thead>\n",
       "  <tbody>\n",
       "    <tr>\n",
       "      <th>2</th>\n",
       "      <td>1</td>\n",
       "      <td>80.0</td>\n",
       "      <td>0</td>\n",
       "      <td>1</td>\n",
       "      <td>105.92</td>\n",
       "      <td>32.5</td>\n",
       "      <td>1</td>\n",
       "    </tr>\n",
       "    <tr>\n",
       "      <th>6</th>\n",
       "      <td>1</td>\n",
       "      <td>74.0</td>\n",
       "      <td>1</td>\n",
       "      <td>1</td>\n",
       "      <td>70.09</td>\n",
       "      <td>27.4</td>\n",
       "      <td>1</td>\n",
       "    </tr>\n",
       "    <tr>\n",
       "      <th>7</th>\n",
       "      <td>0</td>\n",
       "      <td>69.0</td>\n",
       "      <td>0</td>\n",
       "      <td>0</td>\n",
       "      <td>94.39</td>\n",
       "      <td>22.8</td>\n",
       "      <td>1</td>\n",
       "    </tr>\n",
       "    <tr>\n",
       "      <th>8</th>\n",
       "      <td>0</td>\n",
       "      <td>59.0</td>\n",
       "      <td>0</td>\n",
       "      <td>0</td>\n",
       "      <td>76.15</td>\n",
       "      <td>28.1</td>\n",
       "      <td>1</td>\n",
       "    </tr>\n",
       "    <tr>\n",
       "      <th>9</th>\n",
       "      <td>0</td>\n",
       "      <td>78.0</td>\n",
       "      <td>0</td>\n",
       "      <td>0</td>\n",
       "      <td>58.57</td>\n",
       "      <td>24.2</td>\n",
       "      <td>1</td>\n",
       "    </tr>\n",
       "    <tr>\n",
       "      <th>...</th>\n",
       "      <td>...</td>\n",
       "      <td>...</td>\n",
       "      <td>...</td>\n",
       "      <td>...</td>\n",
       "      <td>...</td>\n",
       "      <td>...</td>\n",
       "      <td>...</td>\n",
       "    </tr>\n",
       "    <tr>\n",
       "      <th>5105</th>\n",
       "      <td>0</td>\n",
       "      <td>80.0</td>\n",
       "      <td>1</td>\n",
       "      <td>0</td>\n",
       "      <td>83.75</td>\n",
       "      <td>28.1</td>\n",
       "      <td>1</td>\n",
       "    </tr>\n",
       "    <tr>\n",
       "      <th>5106</th>\n",
       "      <td>0</td>\n",
       "      <td>81.0</td>\n",
       "      <td>0</td>\n",
       "      <td>0</td>\n",
       "      <td>125.20</td>\n",
       "      <td>40.0</td>\n",
       "      <td>1</td>\n",
       "    </tr>\n",
       "    <tr>\n",
       "      <th>5107</th>\n",
       "      <td>0</td>\n",
       "      <td>35.0</td>\n",
       "      <td>0</td>\n",
       "      <td>0</td>\n",
       "      <td>82.99</td>\n",
       "      <td>30.6</td>\n",
       "      <td>1</td>\n",
       "    </tr>\n",
       "    <tr>\n",
       "      <th>5108</th>\n",
       "      <td>1</td>\n",
       "      <td>51.0</td>\n",
       "      <td>0</td>\n",
       "      <td>0</td>\n",
       "      <td>166.29</td>\n",
       "      <td>25.6</td>\n",
       "      <td>0</td>\n",
       "    </tr>\n",
       "    <tr>\n",
       "      <th>5109</th>\n",
       "      <td>0</td>\n",
       "      <td>44.0</td>\n",
       "      <td>0</td>\n",
       "      <td>0</td>\n",
       "      <td>85.28</td>\n",
       "      <td>26.2</td>\n",
       "      <td>1</td>\n",
       "    </tr>\n",
       "  </tbody>\n",
       "</table>\n",
       "<p>4383 rows × 7 columns</p>\n",
       "</div>"
      ],
      "text/plain": [
       "      gender   age  hypertension  heart_disease  avg_glucose_level   bmi  \\\n",
       "2          1  80.0             0              1             105.92  32.5   \n",
       "6          1  74.0             1              1              70.09  27.4   \n",
       "7          0  69.0             0              0              94.39  22.8   \n",
       "8          0  59.0             0              0              76.15  28.1   \n",
       "9          0  78.0             0              0              58.57  24.2   \n",
       "...      ...   ...           ...            ...                ...   ...   \n",
       "5105       0  80.0             1              0              83.75  28.1   \n",
       "5106       0  81.0             0              0             125.20  40.0   \n",
       "5107       0  35.0             0              0              82.99  30.6   \n",
       "5108       1  51.0             0              0             166.29  25.6   \n",
       "5109       0  44.0             0              0              85.28  26.2   \n",
       "\n",
       "      smoking_status  \n",
       "2                  1  \n",
       "6                  1  \n",
       "7                  1  \n",
       "8                  1  \n",
       "9                  1  \n",
       "...              ...  \n",
       "5105               1  \n",
       "5106               1  \n",
       "5107               1  \n",
       "5108               0  \n",
       "5109               1  \n",
       "\n",
       "[4383 rows x 7 columns]"
      ]
     },
     "execution_count": 864,
     "metadata": {},
     "output_type": "execute_result"
    }
   ],
   "source": [
    "# Separate into features and target\n",
    "stroke_features = stroke_df.drop(columns=['stroke'])\n",
    "stroke_target = stroke_df['stroke']\n",
    "\n",
    "# Check features\n",
    "stroke_features"
   ]
  },
  {
   "cell_type": "code",
   "execution_count": 865,
   "metadata": {},
   "outputs": [
    {
     "data": {
      "text/plain": [
       "2       1\n",
       "6       1\n",
       "7       1\n",
       "8       1\n",
       "9       1\n",
       "       ..\n",
       "5105    0\n",
       "5106    0\n",
       "5107    0\n",
       "5108    0\n",
       "5109    0\n",
       "Name: stroke, Length: 4383, dtype: int64"
      ]
     },
     "execution_count": 865,
     "metadata": {},
     "output_type": "execute_result"
    }
   ],
   "source": [
    "# Check target\n",
    "stroke_target"
   ]
  },
  {
   "cell_type": "code",
   "execution_count": 866,
   "metadata": {},
   "outputs": [
    {
     "name": "stdout",
     "output_type": "stream",
     "text": [
      "x_train:  (3506, 7)  x_test:  (877, 7)\n",
      "x_train:  (3506, 7)  x_test:  (877, 7)\n"
     ]
    }
   ],
   "source": [
    "# Split into train and test\n",
    "x_train, x_test, y_train, y_test = train_test_split(\n",
    "    stroke_features.values, stroke_target.values, test_size=0.2, stratify=stroke_target, random_state=14\n",
    ")\n",
    "\n",
    "# Check shape\n",
    "print(\"x_train: \", x_train.shape, \" x_test: \", x_test.shape)\n",
    "print(\"x_train: \", x_train.shape, \" x_test: \", x_test.shape)"
   ]
  },
  {
   "cell_type": "markdown",
   "metadata": {},
   "source": [
    "#### B. Scaling"
   ]
  },
  {
   "cell_type": "code",
   "execution_count": 867,
   "metadata": {},
   "outputs": [
    {
     "name": "stdout",
     "output_type": "stream",
     "text": [
      "[-0.82165063  0.04131234 -0.27947412 -0.20545475 -0.71894858  1.60250387\n",
      "  0.01183708]\n"
     ]
    }
   ],
   "source": [
    "# Scale\n",
    "scaler = StandardScaler()\n",
    "\n",
    "x_train = scaler.fit_transform(x_train)\n",
    "x_test = scaler.transform(x_test)\n",
    "\n",
    "# Check data\n",
    "print(x_train[0])"
   ]
  },
  {
   "cell_type": "code",
   "execution_count": 868,
   "metadata": {},
   "outputs": [
    {
     "name": "stdout",
     "output_type": "stream",
     "text": [
      "smote_features:  (6750, 7)\n",
      "smote_target:  (6750,)\n"
     ]
    }
   ],
   "source": [
    "# Use SMOTE for balancing data\n",
    "sm = SMOTE(random_state=14)\n",
    "x_train, y_train = sm.fit_resample(x_train, y_train)\n",
    "\n",
    "print(\"smote_features: \", x_train.shape)\n",
    "print(\"smote_target: \", y_train.shape)"
   ]
  },
  {
   "cell_type": "markdown",
   "metadata": {},
   "source": [
    "#### C. Training\n",
    "\n",
    "Algorithm chosen: Decision Tree"
   ]
  },
  {
   "cell_type": "code",
   "execution_count": 869,
   "metadata": {},
   "outputs": [
    {
     "name": "stdout",
     "output_type": "stream",
     "text": [
      "0.7311862702857963\n"
     ]
    }
   ],
   "source": [
    "# Load model\n",
    "#model = DecisionTreeClassifier(random_state=100)\n",
    "model = SVC(random_state=100)\n",
    "#model = RandomForestClassifier(random_state=100)\n",
    "\n",
    "# Train model\n",
    "model.fit(x_train, y_train)\n",
    "\n",
    "# Test model using X\n",
    "y_pred = model.predict(x_test)\n",
    "\n",
    "# Train for prediction probabilities\n",
    "calibrated_clf = CalibratedClassifierCV(model, method='sigmoid')\n",
    "calibrated_clf.fit(x_train, y_train)\n",
    "\n",
    "# Test prediction probabilities using X\n",
    "proba = calibrated_clf.predict_proba(x_test)\n",
    "\n",
    "# Evaluate model\n",
    "model_accuracy = balanced_accuracy_score(y_test, y_pred)\n",
    "print(model_accuracy)"
   ]
  },
  {
   "cell_type": "code",
   "execution_count": 870,
   "metadata": {},
   "outputs": [
    {
     "name": "stdout",
     "output_type": "stream",
     "text": [
      "[-0.82165063  0.70482801 -0.27947412 -0.20545475  1.93853845  1.32328738\n",
      " -1.7925451 ]\n",
      "1\n",
      "[0.35029655 0.64970345]\n"
     ]
    }
   ],
   "source": [
    "# Check sample prediction\n",
    "print(x_test[14])\n",
    "print(y_pred[14])\n",
    "print(proba[14])"
   ]
  },
  {
   "cell_type": "markdown",
   "metadata": {},
   "source": [
    "#### D. Saving"
   ]
  },
  {
   "cell_type": "code",
   "execution_count": 871,
   "metadata": {},
   "outputs": [
    {
     "data": {
      "text/plain": [
       "['models/scaler.save']"
      ]
     },
     "execution_count": 871,
     "metadata": {},
     "output_type": "execute_result"
    }
   ],
   "source": [
    "# Save model\n",
    "model_filename = \"models/stroke_clf.joblib\"\n",
    "calibrated_clf_filename = \"models/stroke_calibrated_clf.joblib\"\n",
    "joblib.dump(model, model_filename)\n",
    "joblib.dump(calibrated_clf, calibrated_clf_filename)\n",
    "\n",
    "# Save scaler\n",
    "scaler_filename = \"models/scaler.save\"\n",
    "joblib.dump(scaler, scaler_filename)"
   ]
  },
  {
   "cell_type": "code",
   "execution_count": 872,
   "metadata": {},
   "outputs": [
    {
     "name": "stdout",
     "output_type": "stream",
     "text": [
      "[-0.82165063  1.63374995 -0.27947412 -0.20545475 -1.45814343 -0.53815584\n",
      "  0.01183708]\n",
      "1\n",
      "[0.22816311 0.77183689]\n"
     ]
    }
   ],
   "source": [
    "# Check model\n",
    "#sample = np.array([1, 80, 0, 1, 105.92, 32.5, 1]) # Correct\n",
    "#sample = np.array([1, 74, 1, 1, 70.09, 27.4, 1]) # Wrong\n",
    "#sample = np.array([0, 69, 0, 0, 94.39, 22.8, 1]) # Correct\n",
    "#sample = np.array([0, 59, 0, 0, 76.15, 28.1, 1]) # Correct\n",
    "sample = np.array([0, 78, 0, 0, 58.57, 24.2, 1]) # Correct\n",
    "\n",
    "sample = scaler.transform(sample.reshape(1, -1))[0]\n",
    "print(sample)\n",
    "prediction = model.predict(sample.reshape(1, -1))[0]\n",
    "print(prediction)\n",
    "proba = calibrated_clf.predict_proba(sample.reshape(1, -1))[0]\n",
    "print(proba)"
   ]
  },
  {
   "cell_type": "markdown",
   "metadata": {},
   "source": [
    "Test data for above:\n",
    "\n",
    "![Alt text](image.png)"
   ]
  }
 ],
 "metadata": {
  "kernelspec": {
   "display_name": "django-ml",
   "language": "python",
   "name": "python3"
  },
  "language_info": {
   "codemirror_mode": {
    "name": "ipython",
    "version": 3
   },
   "file_extension": ".py",
   "mimetype": "text/x-python",
   "name": "python",
   "nbconvert_exporter": "python",
   "pygments_lexer": "ipython3",
   "version": "3.9.13"
  },
  "orig_nbformat": 4
 },
 "nbformat": 4,
 "nbformat_minor": 2
}
